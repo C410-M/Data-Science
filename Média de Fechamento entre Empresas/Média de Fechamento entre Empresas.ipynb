{
 "cells": [
  {
   "cell_type": "markdown",
   "metadata": {},
   "source": [
    "Sua tarefa é adicionar uma coluna com o código de cada ação, passar a data como dtype datatime e transformá-la em index. Depois deve juntar todos os arquivos em um só. Quando tiver feito tudo isso, responda a pergunta: Qual das 5 ações teve a maior média de fechamento no período de julho a setembro de 2019?"
   ]
  },
  {
   "cell_type": "code",
   "execution_count": 32,
   "metadata": {},
   "outputs": [],
   "source": [
    "import pandas as pd\n",
    "import numpy as np"
   ]
  },
  {
   "cell_type": "code",
   "execution_count": 33,
   "metadata": {},
   "outputs": [],
   "source": [
    "apple = pd.read_csv('AAPL.csv')\n",
    "amazon = pd.read_csv('AMZN.csv')\n",
    "goog = pd.read_csv('GOOG.csv')\n",
    "netflix = pd.read_csv('NFLX.csv')\n",
    "tesla = pd.read_csv('TSLA.csv')"
   ]
  },
  {
   "cell_type": "code",
   "execution_count": 34,
   "metadata": {},
   "outputs": [],
   "source": [
    "# Converter os dados da Tabela 'Date' para datetime\n",
    "\n",
    "apple['Date'] = pd.to_datetime(apple['Date'])\n",
    "amazon['Date'] = pd.to_datetime(amazon['Date'])\n",
    "goog['Date'] = pd.to_datetime(goog['Date'])\n",
    "netflix['Date'] = pd.to_datetime(netflix['Date'])\n",
    "tesla['Date'] = pd.to_datetime(tesla['Date'])\n",
    "\n",
    "# Passar um valor único em uma coluna do dataset (também conhecido como Broadcast)\n",
    "\n",
    "apple['Code'] = 1\n",
    "\n",
    "amazon['Code'] = 2\n",
    "\n",
    "goog['Code'] = 3\n",
    "\n",
    "netflix['Code'] = 4\n",
    "\n",
    "tesla['Code'] = 5"
   ]
  },
  {
   "cell_type": "code",
   "execution_count": null,
   "metadata": {},
   "outputs": [],
   "source": [
    "# Concatenar todos Dataframes\n",
    "\n",
    "geral = pd.concat([apple, amazon, goog, netflix, tesla])\n",
    "\n",
    "# geral.info()\n",
    "\n",
    "# Transformar Tabela 'Date' em Index\n",
    "\n",
    "geral.set_index(['Date'], inplace=True)"
   ]
  },
  {
   "cell_type": "code",
   "execution_count": 36,
   "metadata": {},
   "outputs": [],
   "source": [
    "# Função Lambda para renomear os Códigos das Empresas\n",
    "\n",
    "def code_empresa(x):\n",
    "    if x == 1:\n",
    "        x = 'Apple'\n",
    "    if x == 2:\n",
    "        x = 'Amazon'\n",
    "    if x == 3:\n",
    "        x = 'Google'\n",
    "    if x == 4:\n",
    "        x = 'Netflix'\n",
    "    if x == 5:\n",
    "        x = 'Tesla'\n",
    "    return x\n",
    "\n",
    "geral['Code'] = geral['Code'].apply(lambda x: code_empresa(x))"
   ]
  },
  {
   "cell_type": "code",
   "execution_count": null,
   "metadata": {},
   "outputs": [],
   "source": [
    "# Fatiar, agrupar e agregar valores na consulta\n",
    "\n",
    "geral.loc['2019-09-06': '2019-09-11'].groupby('Code').max()"
   ]
  }
 ],
 "metadata": {
  "interpreter": {
   "hash": "b83cbf53e06be3c5968de08868b9e1a7eb738cc19dceb2d07610018f9d657c20"
  },
  "kernelspec": {
   "display_name": "Python 3.9.2 64-bit",
   "language": "python",
   "name": "python3"
  },
  "language_info": {
   "codemirror_mode": {
    "name": "ipython",
    "version": 3
   },
   "file_extension": ".py",
   "mimetype": "text/x-python",
   "name": "python",
   "nbconvert_exporter": "python",
   "pygments_lexer": "ipython3",
   "version": "3.9.2"
  },
  "orig_nbformat": 4
 },
 "nbformat": 4,
 "nbformat_minor": 2
}
