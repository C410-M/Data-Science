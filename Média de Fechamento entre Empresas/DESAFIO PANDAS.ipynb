{
 "cells": [
  {
   "cell_type": "markdown",
   "metadata": {},
   "source": [
    "Sua tarefa é adicionar uma coluna com o código de cada ação, passar a data como dtype datatime e transformá-la em index. Depois deve juntar todos os arquivos em um só. Quando tiver feito tudo isso, responda a pergunta: Qual das 5 ações teve a maior média de fechamento no período de julho a setembro de 2019?"
   ]
  },
  {
   "cell_type": "code",
   "execution_count": 8,
   "metadata": {},
   "outputs": [],
   "source": [
    "import pandas as pd\n",
    "import numpy as np\n",
    "import seaborn as sns\n",
    "import matplotlib.pyplot as plt "
   ]
  },
  {
   "cell_type": "code",
   "execution_count": 2,
   "metadata": {},
   "outputs": [],
   "source": [
    "apple = pd.read_csv('AAPL.csv')\n",
    "amazon = pd.read_csv('AMZN.csv')\n",
    "goog = pd.read_csv('GOOG.csv')\n",
    "netflix = pd.read_csv('NFLX.csv')\n",
    "tesla = pd.read_csv('TSLA.csv')"
   ]
  },
  {
   "cell_type": "code",
   "execution_count": 3,
   "metadata": {},
   "outputs": [],
   "source": [
    "# Converter os dados da Tabela 'Date' para datetime\n",
    "\n",
    "apple['Date'] = pd.to_datetime(apple['Date'])\n",
    "amazon['Date'] = pd.to_datetime(amazon['Date'])\n",
    "goog['Date'] = pd.to_datetime(goog['Date'])\n",
    "netflix['Date'] = pd.to_datetime(netflix['Date'])\n",
    "tesla['Date'] = pd.to_datetime(tesla['Date'])\n",
    "\n",
    "# Passar um valor único em uma coluna do dataset (também conhecido como Broadcast)\n",
    "\n",
    "apple['Code'] = 1\n",
    "\n",
    "amazon['Code'] = 2\n",
    "\n",
    "goog['Code'] = 3\n",
    "\n",
    "netflix['Code'] = 4\n",
    "\n",
    "tesla['Code'] = 5"
   ]
  },
  {
   "cell_type": "code",
   "execution_count": 4,
   "metadata": {},
   "outputs": [],
   "source": [
    "# Concatenar todos Dataframes\n",
    "\n",
    "geral = pd.concat([apple, amazon, goog, netflix, tesla])\n",
    "\n",
    "# geral.info()\n",
    "\n",
    "# Transformar Tabela 'Date' em Index\n",
    "\n",
    "geral.set_index(['Date'], inplace=True)"
   ]
  },
  {
   "cell_type": "code",
   "execution_count": 5,
   "metadata": {},
   "outputs": [],
   "source": [
    "# Função Lambda para renomear os Códigos das Empresas\n",
    "\n",
    "def code_empresa(x):\n",
    "    if x == 1:\n",
    "        x = 'Apple'\n",
    "    if x == 2:\n",
    "        x = 'Amazon'\n",
    "    if x == 3:\n",
    "        x = 'Google'\n",
    "    if x == 4:\n",
    "        x = 'Netflix'\n",
    "    if x == 5:\n",
    "        x = 'Tesla'\n",
    "    return x\n",
    "\n",
    "geral['Code'] = geral['Code'].apply(lambda x: code_empresa(x))"
   ]
  },
  {
   "cell_type": "code",
   "execution_count": 6,
   "metadata": {},
   "outputs": [
    {
     "data": {
      "text/html": [
       "<div>\n",
       "<style scoped>\n",
       "    .dataframe tbody tr th:only-of-type {\n",
       "        vertical-align: middle;\n",
       "    }\n",
       "\n",
       "    .dataframe tbody tr th {\n",
       "        vertical-align: top;\n",
       "    }\n",
       "\n",
       "    .dataframe thead th {\n",
       "        text-align: right;\n",
       "    }\n",
       "</style>\n",
       "<table border=\"1\" class=\"dataframe\">\n",
       "  <thead>\n",
       "    <tr style=\"text-align: right;\">\n",
       "      <th></th>\n",
       "      <th>Open</th>\n",
       "      <th>High</th>\n",
       "      <th>Low</th>\n",
       "      <th>Close</th>\n",
       "      <th>Adj Close</th>\n",
       "      <th>Volume</th>\n",
       "    </tr>\n",
       "    <tr>\n",
       "      <th>Code</th>\n",
       "      <th></th>\n",
       "      <th></th>\n",
       "      <th></th>\n",
       "      <th></th>\n",
       "      <th></th>\n",
       "      <th></th>\n",
       "    </tr>\n",
       "  </thead>\n",
       "  <tbody>\n",
       "    <tr>\n",
       "      <th>Amazon</th>\n",
       "      <td>1841.000000</td>\n",
       "      <td>1850.000000</td>\n",
       "      <td>1826.400024</td>\n",
       "      <td>1833.510010</td>\n",
       "      <td>1833.510010</td>\n",
       "      <td>2999500</td>\n",
       "    </tr>\n",
       "    <tr>\n",
       "      <th>Apple</th>\n",
       "      <td>218.070007</td>\n",
       "      <td>223.710007</td>\n",
       "      <td>217.729996</td>\n",
       "      <td>223.589996</td>\n",
       "      <td>222.392929</td>\n",
       "      <td>44289600</td>\n",
       "    </tr>\n",
       "    <tr>\n",
       "      <th>Google</th>\n",
       "      <td>1208.130005</td>\n",
       "      <td>1222.599976</td>\n",
       "      <td>1202.521973</td>\n",
       "      <td>1220.170044</td>\n",
       "      <td>1220.170044</td>\n",
       "      <td>1471900</td>\n",
       "    </tr>\n",
       "    <tr>\n",
       "      <th>Netflix</th>\n",
       "      <td>294.809998</td>\n",
       "      <td>301.549988</td>\n",
       "      <td>290.600006</td>\n",
       "      <td>294.339996</td>\n",
       "      <td>294.339996</td>\n",
       "      <td>12320200</td>\n",
       "    </tr>\n",
       "    <tr>\n",
       "      <th>Tesla</th>\n",
       "      <td>237.380005</td>\n",
       "      <td>248.169998</td>\n",
       "      <td>236.000000</td>\n",
       "      <td>247.100006</td>\n",
       "      <td>247.100006</td>\n",
       "      <td>10042800</td>\n",
       "    </tr>\n",
       "  </tbody>\n",
       "</table>\n",
       "</div>"
      ],
      "text/plain": [
       "                Open         High          Low        Close    Adj Close  \\\n",
       "Code                                                                       \n",
       "Amazon   1841.000000  1850.000000  1826.400024  1833.510010  1833.510010   \n",
       "Apple     218.070007   223.710007   217.729996   223.589996   222.392929   \n",
       "Google   1208.130005  1222.599976  1202.521973  1220.170044  1220.170044   \n",
       "Netflix   294.809998   301.549988   290.600006   294.339996   294.339996   \n",
       "Tesla     237.380005   248.169998   236.000000   247.100006   247.100006   \n",
       "\n",
       "           Volume  \n",
       "Code               \n",
       "Amazon    2999500  \n",
       "Apple    44289600  \n",
       "Google    1471900  \n",
       "Netflix  12320200  \n",
       "Tesla    10042800  "
      ]
     },
     "execution_count": 6,
     "metadata": {},
     "output_type": "execute_result"
    }
   ],
   "source": [
    "# Fatiar, agrupar e agregar valores na consulta\n",
    "\n",
    "geral.loc['2019-09-06': '2019-09-11'].groupby('Code').max()"
   ]
  },
  {
   "cell_type": "code",
   "execution_count": 12,
   "metadata": {},
   "outputs": [],
   "source": [
    "# Função para construir boxplot\n",
    "\n",
    "def grafico_boxplot_grp(data, variable, label):\n",
    "    \n",
    "    if label == \"\": label = variable\n",
    "    sns.boxplot(x=\"Code\", y=variable, data=data)\n",
    "    plt.ylabel(label)\n",
    "    plt.show()"
   ]
  },
  {
   "cell_type": "code",
   "execution_count": 10,
   "metadata": {},
   "outputs": [],
   "source": [
    "label_quali = {'Code':{1:'Apple',2:'Amazon',3:'Google',4:'Netflix',5:'Tesla'}    \n",
    "}"
   ]
  },
  {
   "cell_type": "code",
   "execution_count": 13,
   "metadata": {},
   "outputs": [
    {
     "data": {
      "image/png": "[encoded data removed]",
      "text/plain": [
       "<Figure size 432x288 with 1 Axes>"
      ]
     },
     "metadata": {
      "needs_background": "light"
     },
     "output_type": "display_data"
    }
   ],
   "source": [
    "grafico_boxplot_grp(geral.replace(label_quali), \"Close\", \"Fechamentos\")"
   ]
  },
  {
   "cell_type": "code",
   "execution_count": 7,
   "metadata": {},
   "outputs": [
    {
     "data": {
      "text/html": [
       "<div>\n",
       "<style scoped>\n",
       "    .dataframe tbody tr th:only-of-type {\n",
       "        vertical-align: middle;\n",
       "    }\n",
       "\n",
       "    .dataframe tbody tr th {\n",
       "        vertical-align: top;\n",
       "    }\n",
       "\n",
       "    .dataframe thead th {\n",
       "        text-align: right;\n",
       "    }\n",
       "</style>\n",
       "<table border=\"1\" class=\"dataframe\">\n",
       "  <thead>\n",
       "    <tr style=\"text-align: right;\">\n",
       "      <th></th>\n",
       "      <th>Open</th>\n",
       "      <th>High</th>\n",
       "      <th>Low</th>\n",
       "      <th>Close</th>\n",
       "      <th>Adj Close</th>\n",
       "      <th>Volume</th>\n",
       "      <th>Code</th>\n",
       "    </tr>\n",
       "    <tr>\n",
       "      <th>Date</th>\n",
       "      <th></th>\n",
       "      <th></th>\n",
       "      <th></th>\n",
       "      <th></th>\n",
       "      <th></th>\n",
       "      <th></th>\n",
       "      <th></th>\n",
       "    </tr>\n",
       "  </thead>\n",
       "  <tbody>\n",
       "    <tr>\n",
       "      <th>2019-05-07</th>\n",
       "      <td>205.880005</td>\n",
       "      <td>207.419998</td>\n",
       "      <td>200.830002</td>\n",
       "      <td>202.860001</td>\n",
       "      <td>200.239075</td>\n",
       "      <td>38763700</td>\n",
       "      <td>Apple</td>\n",
       "    </tr>\n",
       "    <tr>\n",
       "      <th>2019-05-08</th>\n",
       "      <td>201.899994</td>\n",
       "      <td>205.339996</td>\n",
       "      <td>201.750000</td>\n",
       "      <td>202.899994</td>\n",
       "      <td>200.278534</td>\n",
       "      <td>26339500</td>\n",
       "      <td>Apple</td>\n",
       "    </tr>\n",
       "    <tr>\n",
       "      <th>2019-05-09</th>\n",
       "      <td>200.399994</td>\n",
       "      <td>201.679993</td>\n",
       "      <td>196.660004</td>\n",
       "      <td>200.720001</td>\n",
       "      <td>198.126709</td>\n",
       "      <td>34908600</td>\n",
       "      <td>Apple</td>\n",
       "    </tr>\n",
       "    <tr>\n",
       "      <th>2019-05-10</th>\n",
       "      <td>197.419998</td>\n",
       "      <td>198.850006</td>\n",
       "      <td>192.770004</td>\n",
       "      <td>197.179993</td>\n",
       "      <td>195.381973</td>\n",
       "      <td>41208700</td>\n",
       "      <td>Apple</td>\n",
       "    </tr>\n",
       "    <tr>\n",
       "      <th>2019-05-13</th>\n",
       "      <td>187.710007</td>\n",
       "      <td>189.479996</td>\n",
       "      <td>182.850006</td>\n",
       "      <td>185.720001</td>\n",
       "      <td>184.026489</td>\n",
       "      <td>57430600</td>\n",
       "      <td>Apple</td>\n",
       "    </tr>\n",
       "  </tbody>\n",
       "</table>\n",
       "</div>"
      ],
      "text/plain": [
       "                  Open        High         Low       Close   Adj Close  \\\n",
       "Date                                                                     \n",
       "2019-05-07  205.880005  207.419998  200.830002  202.860001  200.239075   \n",
       "2019-05-08  201.899994  205.339996  201.750000  202.899994  200.278534   \n",
       "2019-05-09  200.399994  201.679993  196.660004  200.720001  198.126709   \n",
       "2019-05-10  197.419998  198.850006  192.770004  197.179993  195.381973   \n",
       "2019-05-13  187.710007  189.479996  182.850006  185.720001  184.026489   \n",
       "\n",
       "              Volume   Code  \n",
       "Date                         \n",
       "2019-05-07  38763700  Apple  \n",
       "2019-05-08  26339500  Apple  \n",
       "2019-05-09  34908600  Apple  \n",
       "2019-05-10  41208700  Apple  \n",
       "2019-05-13  57430600  Apple  "
      ]
     },
     "execution_count": 7,
     "metadata": {},
     "output_type": "execute_result"
    }
   ],
   "source": [
    "geral.head()"
   ]
  }
 ],
 "metadata": {
  "interpreter": {
   "hash": "b83cbf53e06be3c5968de08868b9e1a7eb738cc19dceb2d07610018f9d657c20"
  },
  "kernelspec": {
   "display_name": "Python 3.9.2 64-bit",
   "language": "python",
   "name": "python3"
  },
  "language_info": {
   "codemirror_mode": {
    "name": "ipython",
    "version": 3
   },
   "file_extension": ".py",
   "mimetype": "text/x-python",
   "name": "python",
   "nbconvert_exporter": "python",
   "pygments_lexer": "ipython3",
   "version": "3.9.2"
  },
  "orig_nbformat": 4
 },
 "nbformat": 4,
 "nbformat_minor": 2
}
